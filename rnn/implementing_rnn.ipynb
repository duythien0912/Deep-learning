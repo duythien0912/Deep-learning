{
 "cells": [
  {
   "cell_type": "markdown",
   "metadata": {},
   "source": [
    "# Implementing an RNN in TensorFlow\n",
    "----------------------------------\n",
    "\n",
    "This script implements an RNN in TensorFlow to predict spam/ham from texts.\n",
    "\n",
    "We start by loading the necessary libraries and initializing a computation graph in TensorFlow."
   ]
  },
  {
   "cell_type": "code",
   "execution_count": 22,
   "metadata": {},
   "outputs": [],
   "source": [
    "import os\n",
    "import re\n",
    "import io\n",
    "import requests\n",
    "import numpy as np\n",
    "import matplotlib.pyplot as plt\n",
    "import tensorflow as tf\n",
    "from zipfile import ZipFile\n",
    "from tensorflow.python.framework import ops\n",
    "ops.reset_default_graph()\n",
    "\n",
    "# Start a graph\n",
    "sess = tf.Session()"
   ]
  },
  {
   "cell_type": "markdown",
   "metadata": {},
   "source": [
    "Next we set the parameters for the RNN model."
   ]
  },
  {
   "cell_type": "code",
   "execution_count": 23,
   "metadata": {},
   "outputs": [],
   "source": [
    "# Set RNN parameters\n",
    "epochs = 50\n",
    "batch_size = 250\n",
    "max_sequence_length = 25\n",
    "rnn_size = 10\n",
    "embedding_size = 50\n",
    "min_word_frequency = 10\n",
    "learning_rate = 0.0005\n",
    "dropout_keep_prob = tf.placeholder(tf.float32)"
   ]
  },
  {
   "cell_type": "markdown",
   "metadata": {},
   "source": [
    "We download and save the data next.  First we check if we have saved it before and load it locally, if not, we load it from the internet (UCI machine learning data repository)."
   ]
  },
  {
   "cell_type": "code",
   "execution_count": 24,
   "metadata": {},
   "outputs": [],
   "source": [
    "# Download or open data\n",
    "data_dir = 'temp'\n",
    "data_file = 'text_data.txt'\n",
    "if not os.path.exists(data_dir):\n",
    "    os.makedirs(data_dir)\n",
    "\n",
    "if not os.path.isfile(os.path.join(data_dir, data_file)):\n",
    "    zip_url = 'http://archive.ics.uci.edu/ml/machine-learning-databases/00228/smsspamcollection.zip'\n",
    "    r = requests.get(zip_url)\n",
    "    z = ZipFile(io.BytesIO(r.content))\n",
    "    file = z.read('SMSSpamCollection')\n",
    "    # Format Data\n",
    "    text_data = file.decode()\n",
    "    text_data = text_data.encode('ascii', errors='ignore')\n",
    "    text_data = text_data.decode().split('\\n')\n",
    "\n",
    "    # Save data to text file\n",
    "    with open(os.path.join(data_dir, data_file), 'w') as file_conn:\n",
    "        for text in text_data:\n",
    "            file_conn.write(\"{}\\n\".format(text))\n",
    "else:\n",
    "    # Open data from text file\n",
    "    text_data = []\n",
    "    with open(os.path.join(data_dir, data_file), 'r') as file_conn:\n",
    "        for row in file_conn:\n",
    "            text_data.append(row)\n",
    "    text_data = text_data[:-1]\n",
    "\n",
    "text_data = [x.split('\\t') for x in text_data if len(x) >= 1]\n",
    "[text_data_target, text_data_train] = [list(x) for x in zip(*text_data)]"
   ]
  },
  {
   "cell_type": "markdown",
   "metadata": {},
   "source": [
    "Next, we process the texts and turn them into numeric representations (words --> indices)."
   ]
  },
  {
   "cell_type": "code",
   "execution_count": 25,
   "metadata": {},
   "outputs": [],
   "source": [
    "# Create a text cleaning function\n",
    "def clean_text(text_string):\n",
    "    text_string = re.sub(r'([^\\s\\w]|_|[0-9])+', '', text_string)\n",
    "    text_string = \" \".join(text_string.split())\n",
    "    text_string = text_string.lower()\n",
    "    return text_string\n",
    "\n",
    "\n",
    "# Clean texts\n",
    "text_data_train = [clean_text(x) for x in text_data_train]\n",
    "\n",
    "# Change texts into numeric vectors\n",
    "vocab_processor = tf.contrib.learn.preprocessing.VocabularyProcessor(max_sequence_length,\n",
    "                                                                     min_frequency=min_word_frequency)\n",
    "text_processed = np.array(list(vocab_processor.fit_transform(text_data_train)))"
   ]
  },
  {
   "cell_type": "markdown",
   "metadata": {},
   "source": [
    "> Note: there will be a WARNING:... use tensorflow/transform or tf.data.  Ignore this for now- there is an issue with getting tensorflow/transform to work. Hopefully this will be fixed soon and the code here will be updated.\n",
    "\n",
    "Now we shuffle and split the texts into train/tests (80% training, 20% testing)."
   ]
  },
  {
   "cell_type": "code",
   "execution_count": 26,
   "metadata": {},
   "outputs": [
    {
     "name": "stdout",
     "output_type": "stream",
     "text": [
      "Vocabulary Size: 933\n",
      "80-20 Train Test split: 4459 -- 1115\n"
     ]
    }
   ],
   "source": [
    "# Shuffle and split data\n",
    "text_processed = np.array(text_processed)\n",
    "text_data_target = np.array([1 if x == 'ham' else 0 for x in text_data_target])\n",
    "shuffled_ix = np.random.permutation(np.arange(len(text_data_target)))\n",
    "x_shuffled = text_processed[shuffled_ix]\n",
    "y_shuffled = text_data_target[shuffled_ix]\n",
    "\n",
    "# Split train/test set\n",
    "ix_cutoff = int(len(y_shuffled)*0.80)\n",
    "x_train, x_test = x_shuffled[:ix_cutoff], x_shuffled[ix_cutoff:]\n",
    "y_train, y_test = y_shuffled[:ix_cutoff], y_shuffled[ix_cutoff:]\n",
    "vocab_size = len(vocab_processor.vocabulary_)\n",
    "print(\"Vocabulary Size: {:d}\".format(vocab_size))\n",
    "print(\"80-20 Train Test split: {:d} -- {:d}\".format(len(y_train), len(y_test)))"
   ]
  },
  {
   "cell_type": "markdown",
   "metadata": {},
   "source": [
    "Here we can define our RNN model.  We create the placeholders for the data, word embedding matrices (and embedding lookups), and define the rest of the model.\n",
    "\n",
    "The rest of the RNN model will create a dynamic RNN cell (regular RNN type), which will vary the number of RNNs needed for variable input length (different amount of words for input texts), and then output into a fully connected logistic layer to predict spam or ham as output."
   ]
  },
  {
   "cell_type": "code",
   "execution_count": 27,
   "metadata": {},
   "outputs": [
    {
     "name": "stdout",
     "output_type": "stream",
     "text": [
      "x_data: Tensor(\"Placeholder_1:0\", shape=(?, 25), dtype=int32)\n",
      "y_output: Tensor(\"Placeholder_2:0\", shape=(?,), dtype=int32)\n",
      "embedding_mat: <tf.Variable 'Variable:0' shape=(933, 50) dtype=float32_ref>\n",
      "embedding_output: Tensor(\"embedding_lookup:0\", shape=(?, 25, 50), dtype=float32)\n",
      "<tensorflow.python.ops.rnn_cell_impl.BasicRNNCell object at 0x1c2ab1abe0>\n"
     ]
    }
   ],
   "source": [
    "# Create placeholders\n",
    "x_data = tf.placeholder(tf.int32, [None, max_sequence_length])\n",
    "y_output = tf.placeholder(tf.int32, [None])\n",
    "\n",
    "print('x_data:', x_data)\n",
    "print('y_output:', y_output)\n",
    "\n",
    "# Create embedding\n",
    "embedding_mat = tf.Variable(tf.random_uniform([vocab_size, embedding_size], -1.0, 1.0))\n",
    "embedding_output = tf.nn.embedding_lookup(embedding_mat, x_data)\n",
    "\n",
    "print('embedding_mat:',embedding_mat)\n",
    "print('embedding_output:',embedding_output)\n",
    "\n",
    "# Define the RNN cell\n",
    "# tensorflow change >= 1.0, rnn is put into tensorflow.contrib directory. Prior version not test.\n",
    "if tf.__version__[0] >= '1':\n",
    "    cell = tf.contrib.rnn.BasicRNNCell(num_units=rnn_size)\n",
    "else:\n",
    "    cell = tf.nn.rnn_cell.BasicRNNCell(num_units=rnn_size)\n",
    "\n",
    "print(cell)\n",
    "output, state = tf.nn.dynamic_rnn(cell, embedding_output, dtype=tf.float32)\n",
    "output = tf.nn.dropout(output, dropout_keep_prob)\n",
    "\n",
    "# Get output of RNN sequence\n",
    "output = tf.transpose(output, [1, 0, 2])\n",
    "last = tf.gather(output, int(output.get_shape()[0]) - 1)\n",
    "\n",
    "weight = tf.Variable(tf.truncated_normal([rnn_size, 2], stddev=0.1))\n",
    "bias = tf.Variable(tf.constant(0.1, shape=[2]))\n",
    "logits_out = tf.matmul(last, weight) + bias"
   ]
  },
  {
   "cell_type": "markdown",
   "metadata": {},
   "source": [
    "Next we declare the loss function (softmax cross entropy), an accuracy function, and optimization function (RMSProp)."
   ]
  },
  {
   "cell_type": "code",
   "execution_count": 28,
   "metadata": {},
   "outputs": [],
   "source": [
    "# Loss function\n",
    "losses = tf.nn.sparse_softmax_cross_entropy_with_logits(logits=logits_out, labels=y_output)\n",
    "loss = tf.reduce_mean(losses)\n",
    "\n",
    "accuracy = tf.reduce_mean(tf.cast(tf.equal(tf.argmax(logits_out, 1), tf.cast(y_output, tf.int64)), tf.float32))\n",
    "\n",
    "optimizer = tf.train.RMSPropOptimizer(learning_rate)\n",
    "train_step = optimizer.minimize(loss)"
   ]
  },
  {
   "cell_type": "markdown",
   "metadata": {},
   "source": [
    "> You may ignore the warning, as the texts are small and our batch size is only 100.  If you increase the batch size and/or have longer sequences of texts, this model may consume too much memory.\n",
    "\n",
    "Next we initialize the variables in the computational graph."
   ]
  },
  {
   "cell_type": "code",
   "execution_count": 29,
   "metadata": {},
   "outputs": [],
   "source": [
    "init = tf.global_variables_initializer()\n",
    "sess.run(init)\n",
    "\n",
    "train_loss = []\n",
    "test_loss = []\n",
    "train_accuracy = []\n",
    "test_accuracy = []"
   ]
  },
  {
   "cell_type": "markdown",
   "metadata": {},
   "source": [
    "Now we can start our training!"
   ]
  },
  {
   "cell_type": "code",
   "execution_count": 30,
   "metadata": {},
   "outputs": [
    {
     "name": "stdout",
     "output_type": "stream",
     "text": [
      "Epoch: 1, Test Loss: 0.6, Test Acc: 0.83\n",
      "Epoch: 2, Test Loss: 0.58, Test Acc: 0.83\n",
      "Epoch: 3, Test Loss: 0.55, Test Acc: 0.83\n",
      "Epoch: 4, Test Loss: 0.52, Test Acc: 0.83\n",
      "Epoch: 5, Test Loss: 0.48, Test Acc: 0.84\n",
      "Epoch: 6, Test Loss: 0.45, Test Acc: 0.84\n",
      "Epoch: 7, Test Loss: 0.43, Test Acc: 0.84\n",
      "Epoch: 8, Test Loss: 0.42, Test Acc: 0.84\n",
      "Epoch: 9, Test Loss: 0.41, Test Acc: 0.84\n",
      "Epoch: 10, Test Loss: 0.41, Test Acc: 0.85\n",
      "Epoch: 11, Test Loss: 0.4, Test Acc: 0.85\n",
      "Epoch: 12, Test Loss: 0.4, Test Acc: 0.85\n",
      "Epoch: 13, Test Loss: 0.4, Test Acc: 0.86\n",
      "Epoch: 14, Test Loss: 0.4, Test Acc: 0.86\n",
      "Epoch: 15, Test Loss: 0.39, Test Acc: 0.86\n",
      "Epoch: 16, Test Loss: 0.39, Test Acc: 0.86\n",
      "Epoch: 17, Test Loss: 0.39, Test Acc: 0.86\n",
      "Epoch: 18, Test Loss: 0.39, Test Acc: 0.87\n",
      "Epoch: 19, Test Loss: 0.38, Test Acc: 0.87\n",
      "Epoch: 20, Test Loss: 0.38, Test Acc: 0.87\n",
      "Epoch: 21, Test Loss: 0.37, Test Acc: 0.87\n",
      "Epoch: 22, Test Loss: 0.37, Test Acc: 0.87\n",
      "Epoch: 23, Test Loss: 0.36, Test Acc: 0.87\n",
      "Epoch: 24, Test Loss: 0.34, Test Acc: 0.87\n",
      "Epoch: 25, Test Loss: 0.32, Test Acc: 0.88\n",
      "Epoch: 26, Test Loss: 0.28, Test Acc: 0.88\n",
      "Epoch: 27, Test Loss: 0.25, Test Acc: 0.9\n",
      "Epoch: 28, Test Loss: 0.24, Test Acc: 0.93\n",
      "Epoch: 29, Test Loss: 0.21, Test Acc: 0.93\n",
      "Epoch: 30, Test Loss: 0.2, Test Acc: 0.94\n",
      "Epoch: 31, Test Loss: 0.19, Test Acc: 0.94\n",
      "Epoch: 32, Test Loss: 0.18, Test Acc: 0.95\n",
      "Epoch: 33, Test Loss: 0.18, Test Acc: 0.95\n",
      "Epoch: 34, Test Loss: 0.16, Test Acc: 0.96\n",
      "Epoch: 35, Test Loss: 0.17, Test Acc: 0.96\n",
      "Epoch: 36, Test Loss: 0.14, Test Acc: 0.96\n",
      "Epoch: 37, Test Loss: 0.13, Test Acc: 0.96\n",
      "Epoch: 38, Test Loss: 0.12, Test Acc: 0.97\n",
      "Epoch: 39, Test Loss: 0.13, Test Acc: 0.96\n",
      "Epoch: 40, Test Loss: 0.11, Test Acc: 0.97\n",
      "Epoch: 41, Test Loss: 0.11, Test Acc: 0.97\n",
      "Epoch: 42, Test Loss: 0.11, Test Acc: 0.97\n",
      "Epoch: 43, Test Loss: 0.11, Test Acc: 0.97\n",
      "Epoch: 44, Test Loss: 0.13, Test Acc: 0.97\n",
      "Epoch: 45, Test Loss: 0.11, Test Acc: 0.97\n",
      "Epoch: 46, Test Loss: 0.11, Test Acc: 0.97\n",
      "Epoch: 47, Test Loss: 0.1, Test Acc: 0.97\n",
      "Epoch: 48, Test Loss: 0.1, Test Acc: 0.97\n",
      "Epoch: 49, Test Loss: 0.11, Test Acc: 0.97\n",
      "Epoch: 50, Test Loss: 0.1, Test Acc: 0.97\n"
     ]
    }
   ],
   "source": [
    "# Start training\n",
    "for epoch in range(epochs):\n",
    "\n",
    "    # Shuffle training data\n",
    "    shuffled_ix = np.random.permutation(np.arange(len(x_train)))\n",
    "    x_train = x_train[shuffled_ix]\n",
    "    y_train = y_train[shuffled_ix]\n",
    "    num_batches = int(len(x_train)/batch_size) + 1\n",
    "    # TO DO CALCULATE GENERATIONS ExACTLY\n",
    "    for i in range(num_batches):\n",
    "        # Select train data\n",
    "        min_ix = i * batch_size\n",
    "        max_ix = np.min([len(x_train), ((i+1) * batch_size)])\n",
    "        x_train_batch = x_train[min_ix:max_ix]\n",
    "        y_train_batch = y_train[min_ix:max_ix]\n",
    "        \n",
    "        # Run train step\n",
    "        train_dict = {x_data: x_train_batch, y_output: y_train_batch, dropout_keep_prob:0.5}\n",
    "        sess.run(train_step, feed_dict=train_dict)\n",
    "        \n",
    "    # Run loss and accuracy for training\n",
    "    temp_train_loss, temp_train_acc = sess.run([loss, accuracy], feed_dict=train_dict)\n",
    "    train_loss.append(temp_train_loss)\n",
    "    train_accuracy.append(temp_train_acc)\n",
    "    \n",
    "    # Run Eval Step\n",
    "    test_dict = {x_data: x_test, y_output: y_test, dropout_keep_prob:1.0}\n",
    "    temp_test_loss, temp_test_acc = sess.run([loss, accuracy], feed_dict=test_dict)\n",
    "    test_loss.append(temp_test_loss)\n",
    "    test_accuracy.append(temp_test_acc)\n",
    "    print('Epoch: {}, Test Loss: {:.2}, Test Acc: {:.2}'.format(epoch+1, temp_test_loss, temp_test_acc))"
   ]
  },
  {
   "cell_type": "markdown",
   "metadata": {},
   "source": [
    "Here is matplotlib code to plot the loss and accuracy over the training generations for both the train and test sets."
   ]
  },
  {
   "cell_type": "code",
   "execution_count": 31,
   "metadata": {},
   "outputs": [
    {
     "data": {
      "image/png": "[encoded data removed]",
      "text/plain": [
       "<Figure size 432x288 with 1 Axes>"
      ]
     },
     "metadata": {
      "needs_background": "light"
     },
     "output_type": "display_data"
    },
    {
     "data": {
      "image/png": "[encoded data removed]",
      "text/plain": [
       "<Figure size 432x288 with 1 Axes>"
      ]
     },
     "metadata": {
      "needs_background": "light"
     },
     "output_type": "display_data"
    }
   ],
   "source": [
    "%matplotlib inline\n",
    "\n",
    "# Plot loss over time\n",
    "epoch_seq = np.arange(1, epochs+1)\n",
    "plt.plot(epoch_seq, train_loss, 'k--', label='Train Set')\n",
    "plt.plot(epoch_seq, test_loss, 'r-', label='Test Set')\n",
    "plt.title('Softmax Loss')\n",
    "plt.xlabel('Epochs')\n",
    "plt.ylabel('Softmax Loss')\n",
    "plt.legend(loc='upper left')\n",
    "plt.show()\n",
    "\n",
    "# Plot accuracy over time\n",
    "plt.plot(epoch_seq, train_accuracy, 'k--', label='Train Set')\n",
    "plt.plot(epoch_seq, test_accuracy, 'r-', label='Test Set')\n",
    "plt.title('Test Accuracy')\n",
    "plt.xlabel('Epochs')\n",
    "plt.ylabel('Accuracy')\n",
    "plt.legend(loc='lower right')\n",
    "plt.show()"
   ]
  },
  {
   "cell_type": "markdown",
   "metadata": {},
   "source": [
    "### Evaluating New Texts\n",
    "\n",
    "Here, we show how to use our trained model to evaluate new texts (which may or may not be spam/ham)"
   ]
  },
  {
   "cell_type": "code",
   "execution_count": 68,
   "metadata": {},
   "outputs": [],
   "source": [
    "sample_texts = ['Hi, please respond 1111 asap to claim your change to win now!',\n",
    "                'Hey what are you doing for dinner tonight?',\n",
    "                'New offer, show this text for 50% off of our inagural sale!',\n",
    "                'Can you take the dog to the vet tomorrow?',\n",
    "                'Congratulations! You have been randomly selected to receive account credit!',\n",
    "                'Mr Hanh would not be able to pass the deep learning class',\n",
    "                'Congratulate,you have a fotune to win a lottery claim win now!']"
   ]
  },
  {
   "cell_type": "markdown",
   "metadata": {},
   "source": [
    "Now we clean our sample texts."
   ]
  },
  {
   "cell_type": "code",
   "execution_count": 69,
   "metadata": {},
   "outputs": [
    {
     "name": "stdout",
     "output_type": "stream",
     "text": [
      "['hi please respond asap to claim your change to win now', 'hey what are you doing for dinner tonight', 'new offer show this text for off of our inagural sale', 'can you take the dog to the vet tomorrow', 'congratulations you have been randomly selected to receive account credit', 'mr hanh would not be able to pass the deep learning class', 'congratulateyou have a fotune to win a lottery claim win now']\n"
     ]
    }
   ],
   "source": [
    "clean_texts = [clean_text(text) for text in sample_texts]\n",
    "print(clean_texts)"
   ]
  },
  {
   "cell_type": "markdown",
   "metadata": {},
   "source": [
    "Next, we transform each text as a sequence of words into a sequence of vocabulary indices."
   ]
  },
  {
   "cell_type": "code",
   "execution_count": 70,
   "metadata": {},
   "outputs": [
    {
     "name": "stdout",
     "output_type": "stream",
     "text": [
      "[[ 93  99   0   0   1 114  13 524   1 178  21   0   0   0   0   0   0   0\n",
      "    0   0   0   0   0   0   0]\n",
      " [121  52  20   3 151  12 332 208   0   0   0   0   0   0   0   0   0   0\n",
      "    0   0   0   0   0   0   0]\n",
      " [ 92 376 483  39  69  12 203  15  86   0   0   0   0   0   0   0   0   0\n",
      "    0   0   0   0   0   0   0]\n",
      " [ 28   3 104   5   0   1   5   0 143   0   0   0   0   0   0   0   0   0\n",
      "    0   0   0   0   0   0   0]\n",
      " [701   3  17  98   0 420   1 318 301 738   0   0   0   0   0   0   0   0\n",
      "    0   0   0   0   0   0   0]\n",
      " [857   0 172  24  32 459   1 909   5   0   0 264   0   0   0   0   0   0\n",
      "    0   0   0   0   0   0   0]\n",
      " [  0  17   4   0   1 178   4   0 114 178  21   0   0   0   0   0   0   0\n",
      "    0   0   0   0   0   0   0]]\n"
     ]
    }
   ],
   "source": [
    "processed_texts = np.array(list(vocab_processor.transform(clean_texts)))\n",
    "print(processed_texts)"
   ]
  },
  {
   "cell_type": "markdown",
   "metadata": {},
   "source": [
    "Now we can run each of the texts through our model and get the output logits."
   ]
  },
  {
   "cell_type": "code",
   "execution_count": 71,
   "metadata": {},
   "outputs": [
    {
     "name": "stdout",
     "output_type": "stream",
     "text": [
      "[[0.80528575 0.19471423]\n",
      " [0.0093527  0.99064726]\n",
      " [0.17758939 0.82241064]\n",
      " [0.0093527  0.99064726]\n",
      " [0.04899374 0.9510063 ]\n",
      " [0.00935378 0.99064624]\n",
      " [0.8036053  0.19639468]]\n"
     ]
    }
   ],
   "source": [
    "# Remember to wrap the resulting logits in a softmax to get probabilities\n",
    "eval_feed_dict = {x_data: processed_texts, dropout_keep_prob: 1.0}\n",
    "model_results = sess.run(tf.nn.softmax(logits_out), feed_dict=eval_feed_dict)\n",
    "\n",
    "print(model_results)"
   ]
  },
  {
   "cell_type": "markdown",
   "metadata": {},
   "source": [
    "Now print results"
   ]
  },
  {
   "cell_type": "code",
   "execution_count": 72,
   "metadata": {},
   "outputs": [
    {
     "name": "stdout",
     "output_type": "stream",
     "text": [
      "Text: Hi, please respond 1111 asap to claim your change to win now!, \n",
      "Prediction: spam\n",
      "\n",
      "Text: Hey what are you doing for dinner tonight?, \n",
      "Prediction: ham\n",
      "\n",
      "Text: New offer, show this text for 50% off of our inagural sale!, \n",
      "Prediction: ham\n",
      "\n",
      "Text: Can you take the dog to the vet tomorrow?, \n",
      "Prediction: ham\n",
      "\n",
      "Text: Congratulations! You have been randomly selected to receive account credit!, \n",
      "Prediction: ham\n",
      "\n",
      "Text: Mr Hanh would not be able to pass the deep learning class, \n",
      "Prediction: ham\n",
      "\n",
      "Text: Congratulate,you have a fotune to win a lottery claim win now!, \n",
      "Prediction: spam\n",
      "\n"
     ]
    }
   ],
   "source": [
    "categories = ['spam', 'ham']\n",
    "\n",
    "for ix, result in enumerate(model_results):\n",
    "    prediction = categories[np.argmax(result)]\n",
    "    \n",
    "    print('Text: {}, \\nPrediction: {}\\n'.format(sample_texts[ix], prediction))"
   ]
  },
  {
   "cell_type": "code",
   "execution_count": null,
   "metadata": {},
   "outputs": [],
   "source": []
  },
  {
   "cell_type": "code",
   "execution_count": null,
   "metadata": {},
   "outputs": [],
   "source": []
  },
  {
   "cell_type": "code",
   "execution_count": null,
   "metadata": {},
   "outputs": [],
   "source": []
  }
 ],
 "metadata": {
  "kernelspec": {
   "display_name": "Python 3",
   "language": "python",
   "name": "python3"
  },
  "language_info": {
   "codemirror_mode": {
    "name": "ipython",
    "version": 3
   },
   "file_extension": ".py",
   "mimetype": "text/x-python",
   "name": "python",
   "nbconvert_exporter": "python",
   "pygments_lexer": "ipython3",
   "version": "3.6.8"
  }
 },
 "nbformat": 4,
 "nbformat_minor": 2
}
